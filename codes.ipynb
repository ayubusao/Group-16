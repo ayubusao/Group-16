"""Codes used for the project: 
1.	Loading into python from excel
2.	Plot the descriptive values including histograms and scatter plot
3.	Plot of QQ Plot
4.	OLS 
5.	Cohen’s Kappa Score: """

# 1a). Load packages:
#Load data from Excel

Import pandas as pd

if __name__ == '__main__':
    data = pd.read_clipboard()
    df = pd.read_clipboard()
    print ('\n---Windows Clip-board current contains the following data ---\n')
    print(data)

# 1b) Download data. 
import pandas as pd
from pandas import DataFrame as df

if __name__ == '__main__':
    data = pd.read_clipboard()
    df = pd.read_clipboard()
    print ('\n---Windows Clip-board current contains the following data ---\n')
    print(data)
    
# 2. Descriptive Values: Descriptive values of mean, median, histogram etc. 

from matplotlib import pyplot
import numpy as np
import pandas as pd
import matplotlib.pyplot as plt 
from numpy import mean
from numpy import std
from pandas import DataFrame as df
from scipy.stats import skew

#Download data
if __name__ == '__main__':
    
    data = pd.read_clipboard()
    df = pd.read_clipboard()
    print ('\n---Windows Clip-board current contains the following data ---\n')
    print(data)
    
    def DataFrame():
        df = DataFrame(Companies, columns=['GDP%', 'P FScores','Year'])
stats = df.describe(include='all')
print (stats)
print(skew)
print(df.describe())
print(df.median())
print(df.cov())
print(df.corr()) 
print(df.mean)
print(df.kurtosis)
pyplot.hist(data)
pyplot.show()


3. Plot of QQ Plot
#Import packages
import statsmodels.api as sm
import numpy as np
import pylab as py
import matplotlib.pyplot as plt
#Load the data
X = (5.36,5.00,5.47,5.44,5.59,5.83,5.54,5.34,5.34,5.11)
y = (3.04,3.28,2.21,2.49,1.89,1.19,0.40,1.42,0.79,0.66)
#Plot the graph
plt.figure()
plt.scatter(np.sort(X), np.sort(y))
plt.xlabel(X)
plt.ylabel(y)
plt.show()
plt.close()
"""
4. OLS 
#Import packages """

import numpy as np
import pandas as pd
import statsmodels.api as sm

# Load data from excel clipboard to pandas framework (df)

if __name__ == '__main__': 
    data = pd.read_clipboard()
    df = pd.read_clipboard()
df.head()
def GDP%():
    y = GDP%  # response variable
def Pfscore():
    X = Pfscore  # predictor variable
X = sm.add_constant(X)  # Adds a constant term to the predictor variable
X.head()
est=sm.OLS(y, X)
est = est.fit()
est.summary()

#5. Cohen’s Kappa Score: 
from sklearn.metrics import cohen_kappa_score
rater1 = ['yes', 'yes', 'no', 'yes', 'no', 'no', 'no', 'yes', 'no', 'no']
rater2 = ['yes', 'no', 'yes', 'no', 'yes', 'yes', 'no', 'no', 'no', 'no']
cohen_kappa_score(rater1, rater2)


